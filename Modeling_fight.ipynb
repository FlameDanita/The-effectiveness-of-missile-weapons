{
 "cells": [
  {
   "cell_type": "code",
   "execution_count": 1,
   "metadata": {},
   "outputs": [],
   "source": [
    "import random\n",
    "import matplotlib.pyplot as plt\n",
    "import numpy as np\n",
    "from IPython.display import clear_output"
   ]
  },
  {
   "cell_type": "code",
   "execution_count": 3,
   "metadata": {},
   "outputs": [],
   "source": [
    "class tank_:\n",
    "    def __init__(self):\n",
    "        self.a = 2.9 # ширина, м\n",
    "        self.b = 2.2 # высота, м\n",
    "        self.type = '100' # тип танковой пушки\n",
    "        self.n = 15 # скорострельность, 1/м\n",
    "        self.omega = 1,7 # среднее число попаданий, необходимое для поражения цели\n",
    "        self.V = 12 # скорость танка, м/с\n",
    "        self.Ex_x = 1/1300\n",
    "\n",
    "class ATS_:\n",
    "    def __init__(self):\n",
    "        self.a = 1.8 # ширина, м\n",
    "        self.b = 2 # высота, м\n",
    "        self.type = ['100', '152', 'ПТРК'] # типы пушек\n",
    "        self.n = {  # скорострельность\n",
    "            '100': 14,\n",
    "            '152': 12,\n",
    "            'ПТРК': ['сам', 'ком'][0]   } \n",
    "        self.omega = {  # тип танковой пушки\n",
    "            '100': 1.5,\n",
    "            '152': 1.2,\n",
    "            'ПТРК': 1.3\n",
    "        }\n",
    "        self.V = 160 # скорость ПТУР, м/c\n",
    "        self.Ex_x = {\n",
    "            '100': 1/1500,\n",
    "            '152': 1/900,\n",
    "            'ПТРК': 1/1500\n",
    "        }\n",
    "\n",
    "class figth_:\n",
    "    def __init__(self, tank, ATS):\n",
    "        self.tank = tank\n",
    "        self.ATS = ATS\n",
    "\n",
    "    def calculate(self, X0):\n",
    "        pass\n",
    "\n",
    "    def plot(self):\n",
    "        pass\n",
    "    \n",
    "tank = tank_()\n",
    "ATS = ATS_()\n",
    "figth = figth_(tank, ATS)"
   ]
  }
 ],
 "metadata": {
  "kernelspec": {
   "display_name": "Python 3",
   "language": "python",
   "name": "python3"
  },
  "language_info": {
   "codemirror_mode": {
    "name": "ipython",
    "version": 3
   },
   "file_extension": ".py",
   "mimetype": "text/x-python",
   "name": "python",
   "nbconvert_exporter": "python",
   "pygments_lexer": "ipython3",
   "version": "3.11.2"
  },
  "orig_nbformat": 4
 },
 "nbformat": 4,
 "nbformat_minor": 2
}
