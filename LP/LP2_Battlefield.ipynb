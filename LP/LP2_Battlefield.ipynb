{
 "cells": [
  {
   "cell_type": "code",
   "execution_count": 4,
   "metadata": {},
   "outputs": [],
   "source": [
    "import random\n",
    "import matplotlib.pyplot as plt\n",
    "import numpy as np"
   ]
  },
  {
   "cell_type": "code",
   "execution_count": 49,
   "metadata": {},
   "outputs": [],
   "source": [
    "class tank_:\n",
    "    def __init__(self):\n",
    "        self.x, self.y = [], []\n",
    "        self.alpha = np.degrees(30)\n",
    "        self.l_rls = 10\n",
    "        self.l_paf = 5\n",
    "        self.dmg = 1000\n",
    "        self.health = 1000\n",
    "        self.reload = 5\n",
    "\n",
    "class ATS_:\n",
    "    def __init__(self):\n",
    "        self.x, self.y = [], []\n",
    "        self.alpha = np.degrees(50)\n",
    "        self.l_rls = 30\n",
    "        self.l_paf = 5\n",
    "        self.dmg = 600\n",
    "        self.health = 100\n",
    "        self.reload = 10\n",
    "\n",
    "class battlefiend_:\n",
    "    def __init__(self, deep = 1):\n",
    "        self.dct = {\n",
    "            'Видимость': 1,\n",
    "            'Влажность': 0,\n",
    "            'Температура': 273\n",
    "        }\n",
    "        self.x, self.y = 100, 100\n",
    "        self.r_step = 20\n",
    "\n",
    "    def generate(self):\n",
    "        self.spawn_x_1 = random.randint(0, self.l)\n",
    "        self.spawn_y_1 = random.randint(0, self.l)\n",
    "        self.spawn_x_2 = random.randint(0, self.l)\n",
    "        self.spawn_y_2 = random.randint(0, self.l)\n",
    "\n",
    "class figth_:\n",
    "    def __init__(self, tank, ATS, battlefield):\n",
    "        self.tank = tank\n",
    "        self.ATS = ATS\n",
    "        self.battlefield = battlefield\n",
    "\n",
    "    def generate_data(self):\n",
    "        self.spawn_x_1, self.spawn_y_1 = 1, 1\n",
    "        self.spawn_x_2, self.spawn_y_2 = self.x - 1, self.y - 1\n",
    "        self.tank.x.append(self.battlefield.spawn_x_1)\n",
    "        self.tank.y.append(self.battlefield.spawn_y_1)\n",
    "        self.ATS.x.append(self.battlefield.spawn_x_2)\n",
    "        self.ATS.y.append(self.battlefield.spawn_y_2)\n",
    "\n",
    "    def plot(self):\n",
    "        plt.scatter(self.tank.x, self.tank.y, marker='s', c='r')\n",
    "        plt.scatter(self.ATS.x, self.ATS.y, marker='o', c='b')\n",
    "        plt.xlim(0, self.battlefield.x)\n",
    "        plt.ylim(0, self.battlefield.y)\n",
    "        plt.show()\n",
    "\n",
    "    def road(self):\n",
    "        pass\n",
    "\n",
    "    def shoot(self):\n",
    "        pass\n"
   ]
  },
  {
   "cell_type": "code",
   "execution_count": 50,
   "metadata": {},
   "outputs": [],
   "source": [
    "tank = tank_()\n",
    "ATS = ATS_()\n",
    "battlefiend = battlefiend_()\n",
    "figth = figth_(tank, ATS, battlefiend)\n",
    "figth.generate_data()"
   ]
  },
  {
   "cell_type": "code",
   "execution_count": 51,
   "metadata": {},
   "outputs": [
    {
     "data": {
      "image/png": "[encoded data removed]",
      "text/plain": [
       "<Figure size 640x480 with 1 Axes>"
      ]
     },
     "metadata": {},
     "output_type": "display_data"
    }
   ],
   "source": [
    "figth.plot()"
   ]
  },
  {
   "cell_type": "code",
   "execution_count": null,
   "metadata": {},
   "outputs": [],
   "source": []
  }
 ],
 "metadata": {
  "kernelspec": {
   "display_name": "Python 3.10.5 64-bit",
   "language": "python",
   "name": "python3"
  },
  "language_info": {
   "codemirror_mode": {
    "name": "ipython",
    "version": 3
   },
   "file_extension": ".py",
   "mimetype": "text/x-python",
   "name": "python",
   "nbconvert_exporter": "python",
   "pygments_lexer": "ipython3",
   "version": "3.10.5"
  },
  "orig_nbformat": 4,
  "vscode": {
   "interpreter": {
    "hash": "f6a3a25c74cd0da2192a41ef485804de5be3e8bfabdab7b7d3444c62efa2594c"
   }
  }
 },
 "nbformat": 4,
 "nbformat_minor": 2
}
