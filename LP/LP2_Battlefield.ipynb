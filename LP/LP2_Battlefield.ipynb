{
 "cells": [
  {
   "cell_type": "code",
   "execution_count": 1,
   "metadata": {},
   "outputs": [],
   "source": [
    "import random"
   ]
  },
  {
   "cell_type": "code",
   "execution_count": 3,
   "metadata": {},
   "outputs": [],
   "source": [
    "class tank:\n",
    "    pass\n",
    "\n",
    "class ATS:\n",
    "    pass\n",
    "\n",
    "class battlefiend:\n",
    "    def __init__(self, deep = 1):\n",
    "        self.dct = {\n",
    "            'Видимость': 1,\n",
    "            'Влажность': 0,\n",
    "            'Температура': 273\n",
    "        }\n",
    "        self.x, self.y = 100, 100\n",
    "        self.spawn_x_1, self.spawn_x_2 = 0, 0\n",
    "        self.spawn_y_1, self.spawn_y_2 = self.x, self.y\n",
    "\n",
    "    def generate(self):\n",
    "        self.spawn_x_1 = random.randint(0, self.l)\n",
    "        self.spawn_y_1 = random.randint(0, self.l)\n",
    "        self.spawn_x_2 = random.randint(0, self.l)\n",
    "        self.spawn_y_2 = random.randint(0, self.l)\n",
    "\n",
    "class figth:\n",
    "    def __init__(self, tank, ATS):\n",
    "        self.tank = tank\n",
    "        self.ATS = ATS"
   ]
  },
  {
   "cell_type": "code",
   "execution_count": null,
   "metadata": {},
   "outputs": [],
   "source": []
  }
 ],
 "metadata": {
  "kernelspec": {
   "display_name": "Python 3.10.5 64-bit",
   "language": "python",
   "name": "python3"
  },
  "language_info": {
   "codemirror_mode": {
    "name": "ipython",
    "version": 3
   },
   "file_extension": ".py",
   "mimetype": "text/x-python",
   "name": "python",
   "nbconvert_exporter": "python",
   "pygments_lexer": "ipython3",
   "version": "3.10.5"
  },
  "orig_nbformat": 4,
  "vscode": {
   "interpreter": {
    "hash": "f6a3a25c74cd0da2192a41ef485804de5be3e8bfabdab7b7d3444c62efa2594c"
   }
  }
 },
 "nbformat": 4,
 "nbformat_minor": 2
}
